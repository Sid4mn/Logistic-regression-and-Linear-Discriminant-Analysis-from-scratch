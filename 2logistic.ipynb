{
  "nbformat": 4,
  "nbformat_minor": 0,
  "metadata": {
    "colab": {
      "name": "2logistic.ipynb",
      "provenance": [],
      "collapsed_sections": []
    },
    "kernelspec": {
      "name": "python3",
      "display_name": "Python 3"
    }
  },
  "cells": [
    {
      "cell_type": "code",
      "metadata": {
        "id": "-m8_-N0XXISO"
      },
      "source": [
        "import numpy as np\r\n",
        "import pandas as pd\r\n",
        "import csv \r\n",
        "import os"
      ],
      "execution_count": 4,
      "outputs": []
    },
    {
      "cell_type": "code",
      "metadata": {
        "colab": {
          "base_uri": "https://localhost:8080/",
          "height": 206
        },
        "id": "S9jOFvlKXMiL",
        "outputId": "d5d6967a-8a5e-4ea8-feac-85214e918d01"
      },
      "source": [
        "df = pd.read_csv('LD.csv')\r\n",
        "df.head()"
      ],
      "execution_count": 5,
      "outputs": [
        {
          "output_type": "execute_result",
          "data": {
            "text/html": [
              "<div>\n",
              "<style scoped>\n",
              "    .dataframe tbody tr th:only-of-type {\n",
              "        vertical-align: middle;\n",
              "    }\n",
              "\n",
              "    .dataframe tbody tr th {\n",
              "        vertical-align: top;\n",
              "    }\n",
              "\n",
              "    .dataframe thead th {\n",
              "        text-align: right;\n",
              "    }\n",
              "</style>\n",
              "<table border=\"1\" class=\"dataframe\">\n",
              "  <thead>\n",
              "    <tr style=\"text-align: right;\">\n",
              "      <th></th>\n",
              "      <th>Height</th>\n",
              "      <th>Wei</th>\n",
              "      <th>Age</th>\n",
              "      <th>Gender</th>\n",
              "    </tr>\n",
              "  </thead>\n",
              "  <tbody>\n",
              "    <tr>\n",
              "      <th>0</th>\n",
              "      <td>170</td>\n",
              "      <td>57</td>\n",
              "      <td>32</td>\n",
              "      <td>0</td>\n",
              "    </tr>\n",
              "    <tr>\n",
              "      <th>1</th>\n",
              "      <td>192</td>\n",
              "      <td>95</td>\n",
              "      <td>28</td>\n",
              "      <td>1</td>\n",
              "    </tr>\n",
              "    <tr>\n",
              "      <th>2</th>\n",
              "      <td>150</td>\n",
              "      <td>45</td>\n",
              "      <td>30</td>\n",
              "      <td>0</td>\n",
              "    </tr>\n",
              "    <tr>\n",
              "      <th>3</th>\n",
              "      <td>170</td>\n",
              "      <td>65</td>\n",
              "      <td>29</td>\n",
              "      <td>1</td>\n",
              "    </tr>\n",
              "    <tr>\n",
              "      <th>4</th>\n",
              "      <td>175</td>\n",
              "      <td>78</td>\n",
              "      <td>35</td>\n",
              "      <td>1</td>\n",
              "    </tr>\n",
              "  </tbody>\n",
              "</table>\n",
              "</div>"
            ],
            "text/plain": [
              "   Height  Wei  Age  Gender\n",
              "0     170   57   32       0\n",
              "1     192   95   28       1\n",
              "2     150   45   30       0\n",
              "3     170   65   29       1\n",
              "4     175   78   35       1"
            ]
          },
          "metadata": {
            "tags": []
          },
          "execution_count": 5
        }
      ]
    },
    {
      "cell_type": "code",
      "metadata": {
        "id": "_ivv_xj_aOdY"
      },
      "source": [
        "x = df[['Height','Wei','Age']] # 0 = woman , 1 = man\r\n",
        "y = df['Gender']"
      ],
      "execution_count": 6,
      "outputs": []
    },
    {
      "cell_type": "code",
      "metadata": {
        "id": "WUAMm-xfacaf"
      },
      "source": [
        "def sigmoid(input):    \r\n",
        "    output = 1 / (1 + np.exp(-input))\r\n",
        "    return output"
      ],
      "execution_count": 7,
      "outputs": []
    },
    {
      "cell_type": "code",
      "metadata": {
        "id": "hulR6rCnfFWK"
      },
      "source": [
        "def optimize(x, y,a,it,parameters):  # a = learning rate, it =iterations\r\n",
        "    size = x.shape[0]\r\n",
        "    weight = parameters[\"weight\"] \r\n",
        "    bias = parameters[\"bias\"]\r\n",
        "    for i in range(it): \r\n",
        "        sigma = sigmoid(np.dot(x, weight) + bias)\r\n",
        "        loss = -1/size * np.sum(y * np.log(sigma)) + (1 - y) * np.log(1-sigma)\r\n",
        "        dW = 1/size * np.dot(x.T, (sigma - y))\r\n",
        "        db = 1/size * np.sum(sigma - y)\r\n",
        "        weight -= a * dW\r\n",
        "        bias -= a * db \r\n",
        "    \r\n",
        "    parameters[\"weight\"] = weight\r\n",
        "    parameters[\"bias\"] = bias\r\n",
        "    return parameters"
      ],
      "execution_count": 12,
      "outputs": []
    },
    {
      "cell_type": "code",
      "metadata": {
        "id": "5kvtG-2TgIGC"
      },
      "source": [
        "init_parameters = {} \r\n",
        "init_parameters[\"weight\"] = np.zeros(x.shape[1])\r\n",
        "init_parameters[\"bias\"] = 0"
      ],
      "execution_count": 13,
      "outputs": []
    },
    {
      "cell_type": "code",
      "metadata": {
        "id": "LY9rCwg9ge0x"
      },
      "source": [
        "def train(x, y, a,it):\r\n",
        "    po = optimize(x, y, a, it ,init_parameters)\r\n",
        "    return po"
      ],
      "execution_count": 16,
      "outputs": []
    },
    {
      "cell_type": "code",
      "metadata": {
        "colab": {
          "base_uri": "https://localhost:8080/"
        },
        "id": "kNjJMmeUgjNc",
        "outputId": "8d2d52b8-2b0e-49e8-d408-bf01020ca1a9"
      },
      "source": [
        "po = train(x, y, a = 0.02, it = 500)\r\n",
        "po"
      ],
      "execution_count": 17,
      "outputs": [
        {
          "output_type": "stream",
          "text": [
            "/usr/local/lib/python3.7/dist-packages/ipykernel_launcher.py:7: RuntimeWarning: divide by zero encountered in log\n",
            "  import sys\n"
          ],
          "name": "stderr"
        },
        {
          "output_type": "execute_result",
          "data": {
            "text/plain": [
              "{'bias': -0.07733671952512801,\n",
              " 'weight': array([-3.29134518,  9.94370335, -1.40756777])}"
            ]
          },
          "metadata": {
            "tags": []
          },
          "execution_count": 17
        }
      ]
    },
    {
      "cell_type": "code",
      "metadata": {
        "colab": {
          "base_uri": "https://localhost:8080/"
        },
        "id": "EcIY6bgrgqeS",
        "outputId": "42243823-a732-475b-c819-b56d15885f1d"
      },
      "source": [
        "output = np.dot(x[:], po[\"weight\"]) + po[\"bias\"]\r\n",
        "predictions = sigmoid(output) >= 1/2\r\n",
        "predictions # false = woman , true = man\r\n"
      ],
      "execution_count": 18,
      "outputs": [
        {
          "output_type": "execute_result",
          "data": {
            "text/plain": [
              "array([False,  True, False,  True,  True,  True,  True, False, False,\n",
              "        True,  True,  True, False,  True])"
            ]
          },
          "metadata": {
            "tags": []
          },
          "execution_count": 18
        }
      ]
    },
    {
      "cell_type": "code",
      "metadata": {
        "colab": {
          "base_uri": "https://localhost:8080/"
        },
        "id": "idNq3TnwAER_",
        "outputId": "3f5b59aa-44ce-4068-b87b-1d8e5bd8bceb"
      },
      "source": [
        "csvinput= \"input.csv\"\r\n",
        "# inputlist = input(\"Enter H,W,A separated by commas:\").split(\",\")\r\n",
        "# inputlist\r\n",
        "\r\n",
        "# def append_list_as_row(file_name, list_of_elem):\r\n",
        "#      with open(file_name, 'a+', newline='') as write_obj:        \r\n",
        "#         csv_writer = csv.writer(write_obj,delimiter = ',')        \r\n",
        "#         csv_writer.writerow(list_of_elem)\r\n",
        "\r\n",
        "# append_list_as_row('input.csv', inputlist)\r\n",
        "\r\n",
        "\r\n",
        "rf = pd.read_csv('input.csv')\r\n",
        "z = rf[['Height','Weight','Age']]\r\n",
        "\r\n",
        "output2 = np.dot(z[4:], po[\"weight\"]) + po[\"bias\"]\r\n",
        "predictions2 = sigmoid(output2) >= 1/2\r\n",
        "print(predictions2)"
      ],
      "execution_count": 29,
      "outputs": [
        {
          "output_type": "stream",
          "text": [
            "[False  True  True  True]\n"
          ],
          "name": "stdout"
        }
      ]
    },
    {
      "cell_type": "markdown",
      "metadata": {
        "id": "AEJEYKC4WBXB"
      },
      "source": [
        ""
      ]
    }
  ]
}