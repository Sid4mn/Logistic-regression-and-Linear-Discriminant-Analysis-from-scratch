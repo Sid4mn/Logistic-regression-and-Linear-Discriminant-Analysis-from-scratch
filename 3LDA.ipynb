{
  "nbformat": 4,
  "nbformat_minor": 0,
  "metadata": {
    "colab": {
      "name": "3LDA.ipynb",
      "provenance": []
    },
    "kernelspec": {
      "name": "python3",
      "display_name": "Python 3"
    }
  },
  "cells": [
    {
      "cell_type": "code",
      "metadata": {
        "id": "pVa9D3_IgHmb"
      },
      "source": [
        "import numpy as np\r\n",
        "import matplotlib.pyplot as plt\r\n"
      ],
      "execution_count": 1,
      "outputs": []
    },
    {
      "cell_type": "code",
      "metadata": {
        "id": "Jte8vto0gwiG"
      },
      "source": [
        "class LDA:\r\n",
        "\r\n",
        "    def __init__(self, n_components):\r\n",
        "        self.n_components = n_components\r\n",
        "        self.linear_discriminants = None\r\n",
        "\r\n",
        "    def fit(self, X, y):\r\n",
        "        n_features = X.shape[1]\r\n",
        "        class_labels = np.unique(y)\r\n",
        "\r\n",
        "        # Within class scatter matrix:\r\n",
        "        # SW = sum((X_c - mean_X_c)^2 )\r\n",
        "\r\n",
        "        # Between class scatter:\r\n",
        "        # SB = sum( n_c * (mean_X_c - mean_overall)^2 )\r\n",
        "\r\n",
        "        mean_overall = np.mean(X, axis=0)\r\n",
        "        SW = np.zeros((n_features, n_features))\r\n",
        "        SB = np.zeros((n_features, n_features))\r\n",
        "        for c in class_labels:\r\n",
        "            X_c = X[y == c]\r\n",
        "            mean_c = np.mean(X_c, axis=0)\r\n",
        "            \r\n",
        "            SW += (X_c - mean_c).T.dot((X_c - mean_c))\r\n",
        "\r\n",
        "            n_c = X_c.shape[0]\r\n",
        "            mean_diff = (mean_c - mean_overall).reshape(n_features, 1)\r\n",
        "            SB += n_c * (mean_diff).dot(mean_diff.T)\r\n",
        "\r\n",
        "        # Determine SW^-1 * SB\r\n",
        "        A = np.linalg.inv(SW).dot(SB)\r\n",
        "        # Get eigenvalues and eigenvectors of SW^-1 * SB\r\n",
        "        eigenvalues, eigenvectors = np.linalg.eig(A)\r\n",
        "        # -> eigenvector v = [:,i] column vector, transpose for easier calculations\r\n",
        "        # sort eigenvalues high to low\r\n",
        "        eigenvectors = eigenvectors.T\r\n",
        "        idxs = np.argsort(abs(eigenvalues))[::-1]\r\n",
        "        eigenvalues = eigenvalues[idxs]\r\n",
        "        eigenvectors = eigenvectors[idxs]\r\n",
        "        # store first n eigenvectors\r\n",
        "        self.linear_discriminants = eigenvectors[0:self.n_components]\r\n",
        "\r\n",
        "    def transform(self, X):\r\n",
        "        # project data\r\n",
        "        return np.dot(X, self.linear_discriminants.T)"
      ],
      "execution_count": 24,
      "outputs": []
    },
    {
      "cell_type": "code",
      "metadata": {
        "colab": {
          "base_uri": "https://localhost:8080/",
          "height": 319
        },
        "id": "Lm844_DthOqi",
        "outputId": "a9482d38-ccd5-46b9-d0e9-f592b71244e6"
      },
      "source": [
        "X = np.array([[170, 57, 32], [192, 95, 28], [150, 45, 30], [170, 65, 29], [175, 78, 35], [185, 90, 32], [170, 65, 28], [\r\n",
        "    155, 48, 31], [160, 55, 30], [182, 80, 30], [175, 69, 28], [180, 80, 27], [160, 50, 31], [175, 72, 30]])\r\n",
        "y = np.array([1, 0, 1, 0, 0, 0, 1, 1, 1, 0, 1, 0, 1, 0])\r\n",
        "\r\n",
        "\r\n",
        "target_names = np.array(['Man', 'Woman'])\r\n",
        "# Project the data onto the 2 primary linear discriminants\r\n",
        "lda = LDA(2)\r\n",
        "lda.fit(X, y)\r\n",
        "X_projected = lda.transform(X)\r\n",
        "\r\n",
        "print('Shape of X:', X.shape)\r\n",
        "print('Shape of transformed X:', X_projected.shape)\r\n",
        "\r\n",
        "x1 = X_projected[:, 0]\r\n",
        "x2 = X_projected[:, 1]\r\n",
        "\r\n",
        "plt.scatter(x1, x2,\r\n",
        "            c=y, edgecolor='none', alpha=0.8,\r\n",
        "            cmap=plt.cm.get_cmap('cividis', 2))\r\n",
        "\r\n",
        "plt.xlabel('Linear Discriminant 1')\r\n",
        "plt.ylabel('Linear Discriminant 2')\r\n",
        "plt.colorbar()\r\n",
        "plt.show()"
      ],
      "execution_count": 30,
      "outputs": [
        {
          "output_type": "stream",
          "text": [
            "Shape of X: (14, 3)\n",
            "Shape of transformed X: (14, 2)\n"
          ],
          "name": "stdout"
        },
        {
          "output_type": "display_data",
          "data": {
            "image/png": "[encoded data removed]",
            "text/plain": [
              "<Figure size 432x288 with 2 Axes>"
            ]
          },
          "metadata": {
            "tags": [],
            "needs_background": "light"
          }
        }
      ]
    },
    {
      "cell_type": "code",
      "metadata": {
        "id": "W-nlKEW1hFYf"
      },
      "source": [
        ""
      ],
      "execution_count": null,
      "outputs": []
    }
  ]
}